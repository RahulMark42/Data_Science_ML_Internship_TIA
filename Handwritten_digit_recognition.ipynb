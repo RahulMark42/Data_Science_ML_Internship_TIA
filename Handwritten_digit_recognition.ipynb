{
 "cells": [
  {
   "cell_type": "markdown",
   "id": "5eda4486-9dad-444e-92e8-9a508968a237",
   "metadata": {},
   "source": [
    "### Hand Written Digit Recognition"
   ]
  },
  {
   "cell_type": "markdown",
   "id": "cb4e363d-6fe4-4ecf-8313-4eaf3443405f",
   "metadata": {},
   "source": [
    "#### The given dataset exist at https://www.kaggle.com/dillsunnyb11/digit-recognizer/tasks. It consists of two files namely the test set and the training set. Let us start with the ML task below. "
   ]
  },
  {
   "cell_type": "code",
   "execution_count": 1,
   "id": "f4c8f2b3-dc69-4bc8-87ce-4ffc74339571",
   "metadata": {},
   "outputs": [],
   "source": [
    "#making necessary imports\n",
    "import pandas as pd\n",
    "import numpy as np\n",
    "import matplotlib.pyplot as plt\n",
    "\n",
    "from sklearn.svm import SVC\n",
    "from sklearn.metrics import plot_confusion_matrix\n",
    "from sklearn.ensemble import RandomForestClassifier\n",
    "from sklearn.model_selection import train_test_split\n",
    "from sklearn.metrics import accuracy_score"
   ]
  },
  {
   "cell_type": "code",
   "execution_count": 2,
   "id": "dd9033f9-786c-4a93-a86d-11a052e303ad",
   "metadata": {},
   "outputs": [],
   "source": [
    "#Importing the Data\n",
    "\n",
    "train_data = pd.read_csv('Handwritten Digits Dataset/train.csv')\n",
    "test_data = pd.read_csv('Handwritten Digits Dataset/test.csv')"
   ]
  },
  {
   "cell_type": "code",
   "execution_count": 3,
   "id": "6c13b0eb-b7c3-4ccf-a883-788c4fad8bce",
   "metadata": {},
   "outputs": [
    {
     "data": {
      "text/html": [
       "<div>\n",
       "<style scoped>\n",
       "    .dataframe tbody tr th:only-of-type {\n",
       "        vertical-align: middle;\n",
       "    }\n",
       "\n",
       "    .dataframe tbody tr th {\n",
       "        vertical-align: top;\n",
       "    }\n",
       "\n",
       "    .dataframe thead th {\n",
       "        text-align: right;\n",
       "    }\n",
       "</style>\n",
       "<table border=\"1\" class=\"dataframe\">\n",
       "  <thead>\n",
       "    <tr style=\"text-align: right;\">\n",
       "      <th></th>\n",
       "      <th>label</th>\n",
       "      <th>pixel0</th>\n",
       "      <th>pixel1</th>\n",
       "      <th>pixel2</th>\n",
       "      <th>pixel3</th>\n",
       "      <th>pixel4</th>\n",
       "      <th>pixel5</th>\n",
       "      <th>pixel6</th>\n",
       "      <th>pixel7</th>\n",
       "      <th>pixel8</th>\n",
       "      <th>...</th>\n",
       "      <th>pixel774</th>\n",
       "      <th>pixel775</th>\n",
       "      <th>pixel776</th>\n",
       "      <th>pixel777</th>\n",
       "      <th>pixel778</th>\n",
       "      <th>pixel779</th>\n",
       "      <th>pixel780</th>\n",
       "      <th>pixel781</th>\n",
       "      <th>pixel782</th>\n",
       "      <th>pixel783</th>\n",
       "    </tr>\n",
       "  </thead>\n",
       "  <tbody>\n",
       "    <tr>\n",
       "      <th>0</th>\n",
       "      <td>1</td>\n",
       "      <td>0</td>\n",
       "      <td>0</td>\n",
       "      <td>0</td>\n",
       "      <td>0</td>\n",
       "      <td>0</td>\n",
       "      <td>0</td>\n",
       "      <td>0</td>\n",
       "      <td>0</td>\n",
       "      <td>0</td>\n",
       "      <td>...</td>\n",
       "      <td>0</td>\n",
       "      <td>0</td>\n",
       "      <td>0</td>\n",
       "      <td>0</td>\n",
       "      <td>0</td>\n",
       "      <td>0</td>\n",
       "      <td>0</td>\n",
       "      <td>0</td>\n",
       "      <td>0</td>\n",
       "      <td>0</td>\n",
       "    </tr>\n",
       "    <tr>\n",
       "      <th>1</th>\n",
       "      <td>0</td>\n",
       "      <td>0</td>\n",
       "      <td>0</td>\n",
       "      <td>0</td>\n",
       "      <td>0</td>\n",
       "      <td>0</td>\n",
       "      <td>0</td>\n",
       "      <td>0</td>\n",
       "      <td>0</td>\n",
       "      <td>0</td>\n",
       "      <td>...</td>\n",
       "      <td>0</td>\n",
       "      <td>0</td>\n",
       "      <td>0</td>\n",
       "      <td>0</td>\n",
       "      <td>0</td>\n",
       "      <td>0</td>\n",
       "      <td>0</td>\n",
       "      <td>0</td>\n",
       "      <td>0</td>\n",
       "      <td>0</td>\n",
       "    </tr>\n",
       "    <tr>\n",
       "      <th>2</th>\n",
       "      <td>1</td>\n",
       "      <td>0</td>\n",
       "      <td>0</td>\n",
       "      <td>0</td>\n",
       "      <td>0</td>\n",
       "      <td>0</td>\n",
       "      <td>0</td>\n",
       "      <td>0</td>\n",
       "      <td>0</td>\n",
       "      <td>0</td>\n",
       "      <td>...</td>\n",
       "      <td>0</td>\n",
       "      <td>0</td>\n",
       "      <td>0</td>\n",
       "      <td>0</td>\n",
       "      <td>0</td>\n",
       "      <td>0</td>\n",
       "      <td>0</td>\n",
       "      <td>0</td>\n",
       "      <td>0</td>\n",
       "      <td>0</td>\n",
       "    </tr>\n",
       "    <tr>\n",
       "      <th>3</th>\n",
       "      <td>4</td>\n",
       "      <td>0</td>\n",
       "      <td>0</td>\n",
       "      <td>0</td>\n",
       "      <td>0</td>\n",
       "      <td>0</td>\n",
       "      <td>0</td>\n",
       "      <td>0</td>\n",
       "      <td>0</td>\n",
       "      <td>0</td>\n",
       "      <td>...</td>\n",
       "      <td>0</td>\n",
       "      <td>0</td>\n",
       "      <td>0</td>\n",
       "      <td>0</td>\n",
       "      <td>0</td>\n",
       "      <td>0</td>\n",
       "      <td>0</td>\n",
       "      <td>0</td>\n",
       "      <td>0</td>\n",
       "      <td>0</td>\n",
       "    </tr>\n",
       "    <tr>\n",
       "      <th>4</th>\n",
       "      <td>0</td>\n",
       "      <td>0</td>\n",
       "      <td>0</td>\n",
       "      <td>0</td>\n",
       "      <td>0</td>\n",
       "      <td>0</td>\n",
       "      <td>0</td>\n",
       "      <td>0</td>\n",
       "      <td>0</td>\n",
       "      <td>0</td>\n",
       "      <td>...</td>\n",
       "      <td>0</td>\n",
       "      <td>0</td>\n",
       "      <td>0</td>\n",
       "      <td>0</td>\n",
       "      <td>0</td>\n",
       "      <td>0</td>\n",
       "      <td>0</td>\n",
       "      <td>0</td>\n",
       "      <td>0</td>\n",
       "      <td>0</td>\n",
       "    </tr>\n",
       "  </tbody>\n",
       "</table>\n",
       "<p>5 rows × 785 columns</p>\n",
       "</div>"
      ],
      "text/plain": [
       "   label  pixel0  pixel1  pixel2  pixel3  pixel4  pixel5  pixel6  pixel7  \\\n",
       "0      1       0       0       0       0       0       0       0       0   \n",
       "1      0       0       0       0       0       0       0       0       0   \n",
       "2      1       0       0       0       0       0       0       0       0   \n",
       "3      4       0       0       0       0       0       0       0       0   \n",
       "4      0       0       0       0       0       0       0       0       0   \n",
       "\n",
       "   pixel8  ...  pixel774  pixel775  pixel776  pixel777  pixel778  pixel779  \\\n",
       "0       0  ...         0         0         0         0         0         0   \n",
       "1       0  ...         0         0         0         0         0         0   \n",
       "2       0  ...         0         0         0         0         0         0   \n",
       "3       0  ...         0         0         0         0         0         0   \n",
       "4       0  ...         0         0         0         0         0         0   \n",
       "\n",
       "   pixel780  pixel781  pixel782  pixel783  \n",
       "0         0         0         0         0  \n",
       "1         0         0         0         0  \n",
       "2         0         0         0         0  \n",
       "3         0         0         0         0  \n",
       "4         0         0         0         0  \n",
       "\n",
       "[5 rows x 785 columns]"
      ]
     },
     "execution_count": 3,
     "metadata": {},
     "output_type": "execute_result"
    }
   ],
   "source": [
    "#visualising training data\n",
    "\n",
    "train_data.head()"
   ]
  },
  {
   "cell_type": "code",
   "execution_count": 4,
   "id": "4d645fed-1ec8-4d31-8b28-b274a06087b6",
   "metadata": {},
   "outputs": [
    {
     "data": {
      "text/html": [
       "<div>\n",
       "<style scoped>\n",
       "    .dataframe tbody tr th:only-of-type {\n",
       "        vertical-align: middle;\n",
       "    }\n",
       "\n",
       "    .dataframe tbody tr th {\n",
       "        vertical-align: top;\n",
       "    }\n",
       "\n",
       "    .dataframe thead th {\n",
       "        text-align: right;\n",
       "    }\n",
       "</style>\n",
       "<table border=\"1\" class=\"dataframe\">\n",
       "  <thead>\n",
       "    <tr style=\"text-align: right;\">\n",
       "      <th></th>\n",
       "      <th>pixel0</th>\n",
       "      <th>pixel1</th>\n",
       "      <th>pixel2</th>\n",
       "      <th>pixel3</th>\n",
       "      <th>pixel4</th>\n",
       "      <th>pixel5</th>\n",
       "      <th>pixel6</th>\n",
       "      <th>pixel7</th>\n",
       "      <th>pixel8</th>\n",
       "      <th>pixel9</th>\n",
       "      <th>...</th>\n",
       "      <th>pixel774</th>\n",
       "      <th>pixel775</th>\n",
       "      <th>pixel776</th>\n",
       "      <th>pixel777</th>\n",
       "      <th>pixel778</th>\n",
       "      <th>pixel779</th>\n",
       "      <th>pixel780</th>\n",
       "      <th>pixel781</th>\n",
       "      <th>pixel782</th>\n",
       "      <th>pixel783</th>\n",
       "    </tr>\n",
       "  </thead>\n",
       "  <tbody>\n",
       "    <tr>\n",
       "      <th>0</th>\n",
       "      <td>0</td>\n",
       "      <td>0</td>\n",
       "      <td>0</td>\n",
       "      <td>0</td>\n",
       "      <td>0</td>\n",
       "      <td>0</td>\n",
       "      <td>0</td>\n",
       "      <td>0</td>\n",
       "      <td>0</td>\n",
       "      <td>0</td>\n",
       "      <td>...</td>\n",
       "      <td>0</td>\n",
       "      <td>0</td>\n",
       "      <td>0</td>\n",
       "      <td>0</td>\n",
       "      <td>0</td>\n",
       "      <td>0</td>\n",
       "      <td>0</td>\n",
       "      <td>0</td>\n",
       "      <td>0</td>\n",
       "      <td>0</td>\n",
       "    </tr>\n",
       "    <tr>\n",
       "      <th>1</th>\n",
       "      <td>0</td>\n",
       "      <td>0</td>\n",
       "      <td>0</td>\n",
       "      <td>0</td>\n",
       "      <td>0</td>\n",
       "      <td>0</td>\n",
       "      <td>0</td>\n",
       "      <td>0</td>\n",
       "      <td>0</td>\n",
       "      <td>0</td>\n",
       "      <td>...</td>\n",
       "      <td>0</td>\n",
       "      <td>0</td>\n",
       "      <td>0</td>\n",
       "      <td>0</td>\n",
       "      <td>0</td>\n",
       "      <td>0</td>\n",
       "      <td>0</td>\n",
       "      <td>0</td>\n",
       "      <td>0</td>\n",
       "      <td>0</td>\n",
       "    </tr>\n",
       "    <tr>\n",
       "      <th>2</th>\n",
       "      <td>0</td>\n",
       "      <td>0</td>\n",
       "      <td>0</td>\n",
       "      <td>0</td>\n",
       "      <td>0</td>\n",
       "      <td>0</td>\n",
       "      <td>0</td>\n",
       "      <td>0</td>\n",
       "      <td>0</td>\n",
       "      <td>0</td>\n",
       "      <td>...</td>\n",
       "      <td>0</td>\n",
       "      <td>0</td>\n",
       "      <td>0</td>\n",
       "      <td>0</td>\n",
       "      <td>0</td>\n",
       "      <td>0</td>\n",
       "      <td>0</td>\n",
       "      <td>0</td>\n",
       "      <td>0</td>\n",
       "      <td>0</td>\n",
       "    </tr>\n",
       "    <tr>\n",
       "      <th>3</th>\n",
       "      <td>0</td>\n",
       "      <td>0</td>\n",
       "      <td>0</td>\n",
       "      <td>0</td>\n",
       "      <td>0</td>\n",
       "      <td>0</td>\n",
       "      <td>0</td>\n",
       "      <td>0</td>\n",
       "      <td>0</td>\n",
       "      <td>0</td>\n",
       "      <td>...</td>\n",
       "      <td>0</td>\n",
       "      <td>0</td>\n",
       "      <td>0</td>\n",
       "      <td>0</td>\n",
       "      <td>0</td>\n",
       "      <td>0</td>\n",
       "      <td>0</td>\n",
       "      <td>0</td>\n",
       "      <td>0</td>\n",
       "      <td>0</td>\n",
       "    </tr>\n",
       "    <tr>\n",
       "      <th>4</th>\n",
       "      <td>0</td>\n",
       "      <td>0</td>\n",
       "      <td>0</td>\n",
       "      <td>0</td>\n",
       "      <td>0</td>\n",
       "      <td>0</td>\n",
       "      <td>0</td>\n",
       "      <td>0</td>\n",
       "      <td>0</td>\n",
       "      <td>0</td>\n",
       "      <td>...</td>\n",
       "      <td>0</td>\n",
       "      <td>0</td>\n",
       "      <td>0</td>\n",
       "      <td>0</td>\n",
       "      <td>0</td>\n",
       "      <td>0</td>\n",
       "      <td>0</td>\n",
       "      <td>0</td>\n",
       "      <td>0</td>\n",
       "      <td>0</td>\n",
       "    </tr>\n",
       "  </tbody>\n",
       "</table>\n",
       "<p>5 rows × 784 columns</p>\n",
       "</div>"
      ],
      "text/plain": [
       "   pixel0  pixel1  pixel2  pixel3  pixel4  pixel5  pixel6  pixel7  pixel8  \\\n",
       "0       0       0       0       0       0       0       0       0       0   \n",
       "1       0       0       0       0       0       0       0       0       0   \n",
       "2       0       0       0       0       0       0       0       0       0   \n",
       "3       0       0       0       0       0       0       0       0       0   \n",
       "4       0       0       0       0       0       0       0       0       0   \n",
       "\n",
       "   pixel9  ...  pixel774  pixel775  pixel776  pixel777  pixel778  pixel779  \\\n",
       "0       0  ...         0         0         0         0         0         0   \n",
       "1       0  ...         0         0         0         0         0         0   \n",
       "2       0  ...         0         0         0         0         0         0   \n",
       "3       0  ...         0         0         0         0         0         0   \n",
       "4       0  ...         0         0         0         0         0         0   \n",
       "\n",
       "   pixel780  pixel781  pixel782  pixel783  \n",
       "0         0         0         0         0  \n",
       "1         0         0         0         0  \n",
       "2         0         0         0         0  \n",
       "3         0         0         0         0  \n",
       "4         0         0         0         0  \n",
       "\n",
       "[5 rows x 784 columns]"
      ]
     },
     "execution_count": 4,
     "metadata": {},
     "output_type": "execute_result"
    }
   ],
   "source": [
    "#visualisiing test data\n",
    "\n",
    "test_data.head()"
   ]
  },
  {
   "cell_type": "code",
   "execution_count": 5,
   "id": "f8005aed-0f84-4fa8-8cc5-20aa8f6dc5d0",
   "metadata": {},
   "outputs": [
    {
     "data": {
      "text/plain": [
       "(42000, 785)"
      ]
     },
     "execution_count": 5,
     "metadata": {},
     "output_type": "execute_result"
    }
   ],
   "source": [
    "#shape of training data\n",
    "\n",
    "train_data.shape"
   ]
  },
  {
   "cell_type": "code",
   "execution_count": 6,
   "id": "367feab2-2bc8-4794-b886-ed9e47f0652a",
   "metadata": {},
   "outputs": [
    {
     "data": {
      "text/plain": [
       "(28000, 784)"
      ]
     },
     "execution_count": 6,
     "metadata": {},
     "output_type": "execute_result"
    }
   ],
   "source": [
    "#shape of test data\n",
    "\n",
    "test_data.shape"
   ]
  },
  {
   "cell_type": "markdown",
   "id": "c1cbc0c6-a5fc-4f5d-a230-d4d406bf26e8",
   "metadata": {},
   "source": [
    "#### Upon visualizing the training and test datasets, we can see the structure of the data. The training dataset consists of 42000 entries with 784 pixel values for each entry, leading to a 28 X 28 pixel image. Each entry has it's own label which can be used during the training. The test dataset  consists of 28000 entires, with 784 pixel values for each entry, leading to a 28 X 28 pixel image"
   ]
  },
  {
   "cell_type": "code",
   "execution_count": 7,
   "id": "89d7a19b-0bd4-430d-89a0-04aa13709f3b",
   "metadata": {},
   "outputs": [],
   "source": [
    "# Collecting the Labels and the pixel values\n",
    "\n",
    "labels = np.array(train_data['label'])\n",
    "\n",
    "train_data = train_data.drop('label', axis = 1)"
   ]
  },
  {
   "cell_type": "code",
   "execution_count": 8,
   "id": "7c61c60f-aed0-4366-bcc6-eac2c087ee4a",
   "metadata": {},
   "outputs": [],
   "source": [
    "#Converting the pixel values of both train and test data into a list of shape (42000, 784) and (28000, 784) respectively\n",
    "\n",
    "train_data_pixels = []\n",
    "for i in range(0, len(train_data)):\n",
    "    train_data_pixels.append(train_data.iloc[i].tolist())\n",
    "    \n",
    "test_data_pixels = []\n",
    "for i in range(0, len(test_data)):\n",
    "    test_data_pixels.append(test_data.iloc[i].tolist())"
   ]
  },
  {
   "cell_type": "code",
   "execution_count": 9,
   "id": "bf6c4126-ec03-49eb-ae61-188b5d41d4fc",
   "metadata": {},
   "outputs": [],
   "source": [
    "# Converting the train and test list to a numpy array for convenience.\n",
    "\n",
    "\n",
    "train_data_pixels = np.asarray(train_data_pixels)\n",
    "test_data_pixels = np.asarray(test_data_pixels)"
   ]
  },
  {
   "cell_type": "code",
   "execution_count": 10,
   "id": "4bea77ba-d69b-4506-96e7-082eab341f8e",
   "metadata": {},
   "outputs": [],
   "source": [
    "#Creating a split on the test data to measure accuracy\n",
    "\n",
    "X_train, X_test, y_train, y_test = train_test_split(train_data_pixels, labels, random_state=0)"
   ]
  },
  {
   "cell_type": "code",
   "execution_count": 11,
   "id": "7dbaf320-d1f1-42df-8a93-7f0311af3b33",
   "metadata": {},
   "outputs": [],
   "source": [
    "#Creating a Random Forest Classifier with n_estimators = 20 and max_depth = 10 and fitting training data to it.\n",
    "\n",
    "rfc = RandomForestClassifier(n_estimators = 20, max_depth = 10).fit(X_train, y_train)"
   ]
  },
  {
   "cell_type": "code",
   "execution_count": 12,
   "id": "876c5034-07cc-412e-a08d-d2c2aea5a253",
   "metadata": {},
   "outputs": [],
   "source": [
    "#Creating a Support Vector Machine Classifier and fitting training data to it\n",
    "\n",
    "svm = SVC().fit(X_train, y_train)"
   ]
  },
  {
   "cell_type": "code",
   "execution_count": 13,
   "id": "b67c93f5-a9c0-42e9-ba29-f82329809076",
   "metadata": {},
   "outputs": [],
   "source": [
    "#predicting values for X_train\n",
    "\n",
    "rfc_predicted_training = rfc.predict(X_train)\n",
    "svm_predicted_training = svm.predict(X_train)"
   ]
  },
  {
   "cell_type": "code",
   "execution_count": 14,
   "id": "db8fa718-2073-49a1-a4e2-3039891ed316",
   "metadata": {},
   "outputs": [
    {
     "data": {
      "text/plain": [
       "0.9680952380952381"
      ]
     },
     "execution_count": 14,
     "metadata": {},
     "output_type": "execute_result"
    }
   ],
   "source": [
    "#measuring training data accuracy for Random Forest Classifier\n",
    "\n",
    "accuracy_score(y_train, rfc_predicted_training)"
   ]
  },
  {
   "cell_type": "code",
   "execution_count": 15,
   "id": "51a6c2b7-a329-4308-9e6e-b9b68a79efba",
   "metadata": {},
   "outputs": [
    {
     "data": {
      "text/plain": [
       "0.9891428571428571"
      ]
     },
     "execution_count": 15,
     "metadata": {},
     "output_type": "execute_result"
    }
   ],
   "source": [
    "#measuring training data accuracy for Support Vector Machine Classifier\n",
    "\n",
    "accuracy_score(y_train, svm_predicted_training)"
   ]
  },
  {
   "cell_type": "code",
   "execution_count": 16,
   "id": "48f77119-9426-45a3-9aa5-eeada7624010",
   "metadata": {},
   "outputs": [],
   "source": [
    "#predicting values for X_test\n",
    "\n",
    "rfc_predicted_testing = rfc.predict(X_test)\n",
    "svm_predicted_testing = svm.predict(X_test)"
   ]
  },
  {
   "cell_type": "code",
   "execution_count": 17,
   "id": "a85e4963-9c1d-4c8a-a0a0-e6fa82a8d448",
   "metadata": {},
   "outputs": [
    {
     "data": {
      "text/plain": [
       "0.9362857142857143"
      ]
     },
     "execution_count": 17,
     "metadata": {},
     "output_type": "execute_result"
    }
   ],
   "source": [
    "#measuring testing data accuracy for Random Forest Classifier, we can see that model is not overfitting\n",
    "\n",
    "accuracy_score(y_test, rfc_predicted_testing)"
   ]
  },
  {
   "cell_type": "code",
   "execution_count": 18,
   "id": "ecafa085-92da-4941-95bb-2cbf245155c5",
   "metadata": {},
   "outputs": [
    {
     "data": {
      "text/plain": [
       "0.9748571428571429"
      ]
     },
     "execution_count": 18,
     "metadata": {},
     "output_type": "execute_result"
    }
   ],
   "source": [
    "#measuring testing data accuracy for Support Vector Machine Classifier, we can see that model is not overfitting\n",
    "\n",
    "accuracy_score(y_test, svm_predicted_testing)"
   ]
  },
  {
   "cell_type": "markdown",
   "id": "08245f0a-cc5b-4877-8664-5b5fd579346e",
   "metadata": {},
   "source": [
    "#### In both the cases of the Support Vector Machine and the Random Forest Classifier, we see that the training set has an accuracy of 98.91% and 96.80% for the Support Vector Machine and the Random Forest Classifier respectively, and the test set has an accuracy of 97.48%and 93.63% for the for the Support Vector Machine and the Random Forest Classifier respectively. This is conclusive evidence that our model with these parameters is not overfitting on the test data."
   ]
  },
  {
   "cell_type": "code",
   "execution_count": 19,
   "id": "42bfa28b-8a75-4771-ad79-763a8e69b781",
   "metadata": {},
   "outputs": [
    {
     "data": {
      "text/plain": [
       "<sklearn.metrics._plot.confusion_matrix.ConfusionMatrixDisplay at 0x1ad292cd700>"
      ]
     },
     "execution_count": 19,
     "metadata": {},
     "output_type": "execute_result"
    },
    {
     "data": {
      "image/png": "[encoded data removed]",
      "text/plain": [
       "<Figure size 720x720 with 2 Axes>"
      ]
     },
     "metadata": {
      "needs_background": "light"
     },
     "output_type": "display_data"
    }
   ],
   "source": [
    "#Confusion matrix for the SVM\n",
    "fig, ax = plt.subplots(figsize=(10, 10))\n",
    "plot_confusion_matrix(svm, X_test, y_test, ax = ax)  "
   ]
  },
  {
   "cell_type": "code",
   "execution_count": 20,
   "id": "b463f64a-33c0-4bd2-a374-eacb6dcbdb62",
   "metadata": {},
   "outputs": [
    {
     "data": {
      "text/plain": [
       "<sklearn.metrics._plot.confusion_matrix.ConfusionMatrixDisplay at 0x1ad299fa970>"
      ]
     },
     "execution_count": 20,
     "metadata": {},
     "output_type": "execute_result"
    },
    {
     "data": {
      "image/png": "[encoded data removed]",
      "text/plain": [
       "<Figure size 720x720 with 2 Axes>"
      ]
     },
     "metadata": {
      "needs_background": "light"
     },
     "output_type": "display_data"
    }
   ],
   "source": [
    "#Confusion matrix for the RFC\n",
    "fig, ax = plt.subplots(figsize=(10, 10))\n",
    "plot_confusion_matrix(rfc, X_test, y_test, ax = ax)  "
   ]
  },
  {
   "cell_type": "markdown",
   "id": "0ea82baa-eb4f-4374-889b-08c008f56459",
   "metadata": {},
   "source": [
    "### Upon viewing the accuracy score and the confusion matrix, it becomes evident that the Support Vector Machine perfomed much better on the training and test set than the Random Forest Classifier. "
   ]
  },
  {
   "cell_type": "markdown",
   "id": "3a490a22-4e68-4f07-9b95-2e75d67dbe75",
   "metadata": {},
   "source": [
    "#### Now, we can introduce data from our test dataset to check the perfomance of the model on unseen data."
   ]
  },
  {
   "cell_type": "code",
   "execution_count": 21,
   "id": "3d785c0e-b211-4640-9de1-e99bfe97ca97",
   "metadata": {},
   "outputs": [
    {
     "name": "stdout",
     "output_type": "stream",
     "text": [
      "[7]\n"
     ]
    }
   ],
   "source": [
    "#Making our own Digits from test.csv and predicting the values using Random Forest Classifier\n",
    "\n",
    "print(rfc.predict(test_data_pixels[756].reshape(1, -1)))"
   ]
  },
  {
   "cell_type": "code",
   "execution_count": 22,
   "id": "d6e9c8a9-478b-4d81-bd55-9b5b6a354a7f",
   "metadata": {},
   "outputs": [
    {
     "data": {
      "text/plain": [
       "<matplotlib.image.AxesImage at 0x1ad2967b550>"
      ]
     },
     "execution_count": 22,
     "metadata": {},
     "output_type": "execute_result"
    },
    {
     "data": {
      "image/png": "[encoded data removed]",
      "text/plain": [
       "<Figure size 432x288 with 1 Axes>"
      ]
     },
     "metadata": {
      "needs_background": "light"
     },
     "output_type": "display_data"
    }
   ],
   "source": [
    "#visualizing the digit from test.csv\n",
    "\n",
    "plt.imshow(test_data_pixels[756].reshape(28,28))"
   ]
  },
  {
   "cell_type": "code",
   "execution_count": 23,
   "id": "f3f6ef26-1f84-4ffb-b040-b2d0b214c8d0",
   "metadata": {},
   "outputs": [
    {
     "name": "stdout",
     "output_type": "stream",
     "text": [
      "[9]\n"
     ]
    }
   ],
   "source": [
    "#Making our own Digits from test.csv and predicting the values using Support Vector Machine Classifier\n",
    "\n",
    "print(svm.predict(test_data_pixels[2534].reshape(1, -1)))"
   ]
  },
  {
   "cell_type": "code",
   "execution_count": 24,
   "id": "4a393ed5-2a2a-47f0-afa5-9403282ad9ab",
   "metadata": {},
   "outputs": [
    {
     "data": {
      "text/plain": [
       "<matplotlib.image.AxesImage at 0x1ad2ba2e280>"
      ]
     },
     "execution_count": 24,
     "metadata": {},
     "output_type": "execute_result"
    },
    {
     "data": {
      "image/png": "[encoded data removed]",
      "text/plain": [
       "<Figure size 432x288 with 1 Axes>"
      ]
     },
     "metadata": {
      "needs_background": "light"
     },
     "output_type": "display_data"
    }
   ],
   "source": [
    "#visualizing the digit from test.csv\n",
    "\n",
    "plt.imshow(test_data_pixels[2534].reshape(28,28))"
   ]
  }
 ],
 "metadata": {
  "kernelspec": {
   "display_name": "Python 3",
   "language": "python",
   "name": "python3"
  },
  "language_info": {
   "codemirror_mode": {
    "name": "ipython",
    "version": 3
   },
   "file_extension": ".py",
   "mimetype": "text/x-python",
   "name": "python",
   "nbconvert_exporter": "python",
   "pygments_lexer": "ipython3",
   "version": "3.9.5"
  }
 },
 "nbformat": 4,
 "nbformat_minor": 5
}
